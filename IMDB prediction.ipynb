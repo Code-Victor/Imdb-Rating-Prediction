{
 "cells": [
  {
   "cell_type": "code",
   "execution_count": 1,
   "metadata": {},
   "outputs": [],
   "source": [
    "import glob\n",
    "import pandas as pd\n",
    "import matplotlib.pyplot as plt"
   ]
  },
  {
   "cell_type": "code",
   "execution_count": 2,
   "metadata": {},
   "outputs": [],
   "source": [
    "data=pd.read_csv(r'C:\\Users\\DELL LATITUDE E7250\\Desktop\\study\\Machine learning\\Python tutorial class\\3. Pandas Tutorial\\2. Pandas from  Data School\\2. My top 25 pandas tricks\\GitHub\\data\\imdb_1000.csv')"
   ]
  },
  {
   "cell_type": "code",
   "execution_count": 3,
   "metadata": {},
   "outputs": [
    {
     "data": {
      "text/html": [
       "<div>\n",
       "<style scoped>\n",
       "    .dataframe tbody tr th:only-of-type {\n",
       "        vertical-align: middle;\n",
       "    }\n",
       "\n",
       "    .dataframe tbody tr th {\n",
       "        vertical-align: top;\n",
       "    }\n",
       "\n",
       "    .dataframe thead th {\n",
       "        text-align: right;\n",
       "    }\n",
       "</style>\n",
       "<table border=\"1\" class=\"dataframe\">\n",
       "  <thead>\n",
       "    <tr style=\"text-align: right;\">\n",
       "      <th></th>\n",
       "      <th>star_rating</th>\n",
       "      <th>title</th>\n",
       "      <th>content_rating</th>\n",
       "      <th>genre</th>\n",
       "      <th>duration</th>\n",
       "      <th>actors_list</th>\n",
       "    </tr>\n",
       "  </thead>\n",
       "  <tbody>\n",
       "    <tr>\n",
       "      <th>0</th>\n",
       "      <td>9.3</td>\n",
       "      <td>The Shawshank Redemption</td>\n",
       "      <td>R</td>\n",
       "      <td>Crime</td>\n",
       "      <td>142</td>\n",
       "      <td>[u'Tim Robbins', u'Morgan Freeman', u'Bob Gunt...</td>\n",
       "    </tr>\n",
       "    <tr>\n",
       "      <th>1</th>\n",
       "      <td>9.2</td>\n",
       "      <td>The Godfather</td>\n",
       "      <td>R</td>\n",
       "      <td>Crime</td>\n",
       "      <td>175</td>\n",
       "      <td>[u'Marlon Brando', u'Al Pacino', u'James Caan']</td>\n",
       "    </tr>\n",
       "    <tr>\n",
       "      <th>2</th>\n",
       "      <td>9.1</td>\n",
       "      <td>The Godfather: Part II</td>\n",
       "      <td>R</td>\n",
       "      <td>Crime</td>\n",
       "      <td>200</td>\n",
       "      <td>[u'Al Pacino', u'Robert De Niro', u'Robert Duv...</td>\n",
       "    </tr>\n",
       "    <tr>\n",
       "      <th>3</th>\n",
       "      <td>9.0</td>\n",
       "      <td>The Dark Knight</td>\n",
       "      <td>PG-13</td>\n",
       "      <td>Action</td>\n",
       "      <td>152</td>\n",
       "      <td>[u'Christian Bale', u'Heath Ledger', u'Aaron E...</td>\n",
       "    </tr>\n",
       "    <tr>\n",
       "      <th>4</th>\n",
       "      <td>8.9</td>\n",
       "      <td>Pulp Fiction</td>\n",
       "      <td>R</td>\n",
       "      <td>Crime</td>\n",
       "      <td>154</td>\n",
       "      <td>[u'John Travolta', u'Uma Thurman', u'Samuel L....</td>\n",
       "    </tr>\n",
       "  </tbody>\n",
       "</table>\n",
       "</div>"
      ],
      "text/plain": [
       "   star_rating                     title content_rating   genre  duration  \\\n",
       "0          9.3  The Shawshank Redemption              R   Crime       142   \n",
       "1          9.2             The Godfather              R   Crime       175   \n",
       "2          9.1    The Godfather: Part II              R   Crime       200   \n",
       "3          9.0           The Dark Knight          PG-13  Action       152   \n",
       "4          8.9              Pulp Fiction              R   Crime       154   \n",
       "\n",
       "                                         actors_list  \n",
       "0  [u'Tim Robbins', u'Morgan Freeman', u'Bob Gunt...  \n",
       "1    [u'Marlon Brando', u'Al Pacino', u'James Caan']  \n",
       "2  [u'Al Pacino', u'Robert De Niro', u'Robert Duv...  \n",
       "3  [u'Christian Bale', u'Heath Ledger', u'Aaron E...  \n",
       "4  [u'John Travolta', u'Uma Thurman', u'Samuel L....  "
      ]
     },
     "execution_count": 3,
     "metadata": {},
     "output_type": "execute_result"
    }
   ],
   "source": [
    "data.head()"
   ]
  },
  {
   "cell_type": "code",
   "execution_count": 4,
   "metadata": {},
   "outputs": [
    {
     "data": {
      "text/html": [
       "<div>\n",
       "<style scoped>\n",
       "    .dataframe tbody tr th:only-of-type {\n",
       "        vertical-align: middle;\n",
       "    }\n",
       "\n",
       "    .dataframe tbody tr th {\n",
       "        vertical-align: top;\n",
       "    }\n",
       "\n",
       "    .dataframe thead th {\n",
       "        text-align: right;\n",
       "    }\n",
       "</style>\n",
       "<table border=\"1\" class=\"dataframe\">\n",
       "  <thead>\n",
       "    <tr style=\"text-align: right;\">\n",
       "      <th></th>\n",
       "      <th>mean</th>\n",
       "      <th>count</th>\n",
       "    </tr>\n",
       "    <tr>\n",
       "      <th>genre</th>\n",
       "      <th></th>\n",
       "      <th></th>\n",
       "    </tr>\n",
       "  </thead>\n",
       "  <tbody>\n",
       "    <tr>\n",
       "      <th>Action</th>\n",
       "      <td>7.884559</td>\n",
       "      <td>136</td>\n",
       "    </tr>\n",
       "    <tr>\n",
       "      <th>Adventure</th>\n",
       "      <td>7.933333</td>\n",
       "      <td>75</td>\n",
       "    </tr>\n",
       "    <tr>\n",
       "      <th>Animation</th>\n",
       "      <td>7.914516</td>\n",
       "      <td>62</td>\n",
       "    </tr>\n",
       "    <tr>\n",
       "      <th>Biography</th>\n",
       "      <td>7.862338</td>\n",
       "      <td>77</td>\n",
       "    </tr>\n",
       "    <tr>\n",
       "      <th>Comedy</th>\n",
       "      <td>7.822436</td>\n",
       "      <td>156</td>\n",
       "    </tr>\n",
       "    <tr>\n",
       "      <th>Crime</th>\n",
       "      <td>7.916935</td>\n",
       "      <td>124</td>\n",
       "    </tr>\n",
       "    <tr>\n",
       "      <th>Drama</th>\n",
       "      <td>7.902518</td>\n",
       "      <td>278</td>\n",
       "    </tr>\n",
       "    <tr>\n",
       "      <th>Family</th>\n",
       "      <td>7.850000</td>\n",
       "      <td>2</td>\n",
       "    </tr>\n",
       "    <tr>\n",
       "      <th>Fantasy</th>\n",
       "      <td>7.700000</td>\n",
       "      <td>1</td>\n",
       "    </tr>\n",
       "    <tr>\n",
       "      <th>Film-Noir</th>\n",
       "      <td>8.033333</td>\n",
       "      <td>3</td>\n",
       "    </tr>\n",
       "    <tr>\n",
       "      <th>History</th>\n",
       "      <td>8.000000</td>\n",
       "      <td>1</td>\n",
       "    </tr>\n",
       "    <tr>\n",
       "      <th>Horror</th>\n",
       "      <td>7.806897</td>\n",
       "      <td>29</td>\n",
       "    </tr>\n",
       "    <tr>\n",
       "      <th>Mystery</th>\n",
       "      <td>7.975000</td>\n",
       "      <td>16</td>\n",
       "    </tr>\n",
       "    <tr>\n",
       "      <th>Sci-Fi</th>\n",
       "      <td>7.920000</td>\n",
       "      <td>5</td>\n",
       "    </tr>\n",
       "    <tr>\n",
       "      <th>Thriller</th>\n",
       "      <td>7.680000</td>\n",
       "      <td>5</td>\n",
       "    </tr>\n",
       "    <tr>\n",
       "      <th>Western</th>\n",
       "      <td>8.255556</td>\n",
       "      <td>9</td>\n",
       "    </tr>\n",
       "  </tbody>\n",
       "</table>\n",
       "</div>"
      ],
      "text/plain": [
       "               mean  count\n",
       "genre                     \n",
       "Action     7.884559    136\n",
       "Adventure  7.933333     75\n",
       "Animation  7.914516     62\n",
       "Biography  7.862338     77\n",
       "Comedy     7.822436    156\n",
       "Crime      7.916935    124\n",
       "Drama      7.902518    278\n",
       "Family     7.850000      2\n",
       "Fantasy    7.700000      1\n",
       "Film-Noir  8.033333      3\n",
       "History    8.000000      1\n",
       "Horror     7.806897     29\n",
       "Mystery    7.975000     16\n",
       "Sci-Fi     7.920000      5\n",
       "Thriller   7.680000      5\n",
       "Western    8.255556      9"
      ]
     },
     "execution_count": 4,
     "metadata": {},
     "output_type": "execute_result"
    }
   ],
   "source": [
    "data.groupby('genre').star_rating.agg(['mean','count'])"
   ]
  },
  {
   "cell_type": "code",
   "execution_count": 5,
   "metadata": {},
   "outputs": [
    {
     "data": {
      "image/png": "[encoded data removed]",
      "text/plain": [
       "<Figure size 432x288 with 1 Axes>"
      ]
     },
     "metadata": {
      "needs_background": "light"
     },
     "output_type": "display_data"
    }
   ],
   "source": [
    "plt.scatter(x=range(16),y=data.groupby('genre').star_rating.mean())\n",
    "plt.xticks(ticks=range(16),labels=data.groupby('genre').star_rating.mean().index,rotation=45)\n",
    "plt.show()"
   ]
  },
  {
   "cell_type": "code",
   "execution_count": 6,
   "metadata": {},
   "outputs": [
    {
     "data": {
      "text/html": [
       "<div>\n",
       "<style scoped>\n",
       "    .dataframe tbody tr th:only-of-type {\n",
       "        vertical-align: middle;\n",
       "    }\n",
       "\n",
       "    .dataframe tbody tr th {\n",
       "        vertical-align: top;\n",
       "    }\n",
       "\n",
       "    .dataframe thead th {\n",
       "        text-align: right;\n",
       "    }\n",
       "</style>\n",
       "<table border=\"1\" class=\"dataframe\">\n",
       "  <thead>\n",
       "    <tr style=\"text-align: right;\">\n",
       "      <th></th>\n",
       "      <th>star_rating</th>\n",
       "      <th>title</th>\n",
       "      <th>content_rating</th>\n",
       "      <th>genre</th>\n",
       "      <th>duration</th>\n",
       "      <th>actors_list</th>\n",
       "    </tr>\n",
       "  </thead>\n",
       "  <tbody>\n",
       "    <tr>\n",
       "      <th>0</th>\n",
       "      <td>9.3</td>\n",
       "      <td>The Shawshank Redemption</td>\n",
       "      <td>R</td>\n",
       "      <td>Crime</td>\n",
       "      <td>142</td>\n",
       "      <td>[u'Tim Robbins', u'Morgan Freeman', u'Bob Gunt...</td>\n",
       "    </tr>\n",
       "    <tr>\n",
       "      <th>1</th>\n",
       "      <td>9.2</td>\n",
       "      <td>The Godfather</td>\n",
       "      <td>R</td>\n",
       "      <td>Crime</td>\n",
       "      <td>175</td>\n",
       "      <td>[u'Marlon Brando', u'Al Pacino', u'James Caan']</td>\n",
       "    </tr>\n",
       "    <tr>\n",
       "      <th>2</th>\n",
       "      <td>9.1</td>\n",
       "      <td>The Godfather: Part II</td>\n",
       "      <td>R</td>\n",
       "      <td>Crime</td>\n",
       "      <td>200</td>\n",
       "      <td>[u'Al Pacino', u'Robert De Niro', u'Robert Duv...</td>\n",
       "    </tr>\n",
       "    <tr>\n",
       "      <th>3</th>\n",
       "      <td>9.0</td>\n",
       "      <td>The Dark Knight</td>\n",
       "      <td>PG-13</td>\n",
       "      <td>Action</td>\n",
       "      <td>152</td>\n",
       "      <td>[u'Christian Bale', u'Heath Ledger', u'Aaron E...</td>\n",
       "    </tr>\n",
       "    <tr>\n",
       "      <th>4</th>\n",
       "      <td>8.9</td>\n",
       "      <td>Pulp Fiction</td>\n",
       "      <td>R</td>\n",
       "      <td>Crime</td>\n",
       "      <td>154</td>\n",
       "      <td>[u'John Travolta', u'Uma Thurman', u'Samuel L....</td>\n",
       "    </tr>\n",
       "  </tbody>\n",
       "</table>\n",
       "</div>"
      ],
      "text/plain": [
       "   star_rating                     title content_rating   genre  duration  \\\n",
       "0          9.3  The Shawshank Redemption              R   Crime       142   \n",
       "1          9.2             The Godfather              R   Crime       175   \n",
       "2          9.1    The Godfather: Part II              R   Crime       200   \n",
       "3          9.0           The Dark Knight          PG-13  Action       152   \n",
       "4          8.9              Pulp Fiction              R   Crime       154   \n",
       "\n",
       "                                         actors_list  \n",
       "0  [u'Tim Robbins', u'Morgan Freeman', u'Bob Gunt...  \n",
       "1    [u'Marlon Brando', u'Al Pacino', u'James Caan']  \n",
       "2  [u'Al Pacino', u'Robert De Niro', u'Robert Duv...  \n",
       "3  [u'Christian Bale', u'Heath Ledger', u'Aaron E...  \n",
       "4  [u'John Travolta', u'Uma Thurman', u'Samuel L....  "
      ]
     },
     "execution_count": 6,
     "metadata": {},
     "output_type": "execute_result"
    }
   ],
   "source": [
    "data.head()"
   ]
  },
  {
   "cell_type": "code",
   "execution_count": 7,
   "metadata": {},
   "outputs": [],
   "source": [
    "import ast\n",
    "from collections import Counter"
   ]
  },
  {
   "cell_type": "code",
   "execution_count": 8,
   "metadata": {},
   "outputs": [],
   "source": [
    "data.actors_list=data.actors_list.apply(ast.literal_eval)"
   ]
  },
  {
   "cell_type": "code",
   "execution_count": 9,
   "metadata": {},
   "outputs": [],
   "source": [
    "actorcount=Counter()"
   ]
  },
  {
   "cell_type": "code",
   "execution_count": 10,
   "metadata": {},
   "outputs": [],
   "source": [
    "for _,actors in data.actors_list.iteritems():\n",
    "    actorcount.update(actors)"
   ]
  },
  {
   "cell_type": "code",
   "execution_count": 11,
   "metadata": {},
   "outputs": [
    {
     "data": {
      "text/plain": [
       "dict_keys(['Tim Robbins', 'Morgan Freeman', 'Bob Gunton', 'Marlon Brando', 'Al Pacino', 'James Caan', 'Robert De Niro', 'Robert Duvall', 'Christian Bale', 'Heath Ledger', 'Aaron Eckhart', 'John Travolta', 'Uma Thurman', 'Samuel L. Jackson', 'Henry Fonda', 'Lee J. Cobb', 'Martin Balsam', 'Clint Eastwood', 'Eli Wallach', 'Lee Van Cleef', 'Elijah Wood', 'Viggo Mortensen', 'Ian McKellen', 'Liam Neeson', 'Ralph Fiennes', 'Ben Kingsley', 'Brad Pitt', 'Edward Norton', 'Helena Bonham Carter', 'Orlando Bloom', 'Leonardo DiCaprio', 'Joseph Gordon-Levitt', 'Ellen Page', 'Mark Hamill', 'Harrison Ford', 'Carrie Fisher', 'Tom Hanks', 'Robin Wright', 'Gary Sinise', 'Matthew McConaughey', 'Anne Hathaway', 'Jessica Chastain', 'Jack Nicholson', 'Louise Fletcher', 'Michael Berryman', 'Toshirô Mifune', 'Takashi Shimura', 'Keiko Tsushima', 'Ray Liotta', 'Joe Pesci', 'Keanu Reeves', 'Laurence Fishburne', 'Carrie-Anne Moss', 'Alexandre Rodrigues', 'Matheus Nachtergaele', 'Leandro Firmino', 'James Stewart', 'Donna Reed', 'Lionel Barrymore', 'Kevin Spacey', 'Gabriel Byrne', 'Chazz Palminteri', 'Roberto Benigni', 'Nicoletta Braschi', 'Giorgio Cantarini', 'Charles Bronson', 'Claudia Cardinale', 'Jodie Foster', 'Anthony Hopkins', 'Lawrence A. Bonney', 'Jean Reno', 'Gary Oldman', 'Natalie Portman', 'Charles Chaplin', 'Virginia Cherrill', 'Florence Lee', 'Daveigh Chase', 'Suzanne Pleshette', 'Miyu Irino', 'François Cluzet', 'Omar Sy', 'Anne Le Ny', 'Humphrey Bogart', 'Ingrid Bergman', 'Paul Henreid', 'Miles Teller', 'J.K. Simmons', 'Melissa Benoist', 'Edward Furlong', \"Beverly D'Angelo\", 'Paulette Goddard', 'Henry Bergman', 'Matt Damon', 'Tom Sizemore', 'Karen Allen', 'Paul Freeman', 'Grace Kelly', 'Wendell Corey', 'Anthony Perkins', 'Janet Leigh', 'Vera Miles', 'Michael Clarke Duncan', 'David Morse', 'William Holden', 'Gloria Swanson', 'Erich von Stroheim', 'Adrien Brody', 'Thomas Kretschmann', 'Frank Finlay', 'Tom Hardy', 'Russell Crowe', 'Joaquin Phoenix', 'Connie Nielsen', 'Arnold Schwarzenegger', 'Linda Hamilton', 'Guy Pearce', 'Joe Pantoliano', 'Darsheel Safary', 'Aamir Khan', 'Tanay Chheda', 'Peter Sellers', 'George C. Scott', 'Sterling Hayden', 'Philippe Noiret', 'Enzo Cannavale', 'Antonella Attili', 'Martin Sheen', 'Jack Oakie', 'Hugh Jackman', 'Scarlett Johansson', 'Michael J. Fox', 'Christopher Lloyd', 'Lea Thompson', 'Matthew Broderick', 'Jeremy Irons', 'James Earl Jones', 'Ulrich Mühe', 'Martina Gedeck', 'Sebastian Koch', 'Sigourney Weaver', 'Tom Skerritt', 'John Hurt', 'Kirk Douglas', 'Ralph Meeker', 'Adolphe Menjou', 'Jamie Foxx', 'Christoph Waltz', 'Madhavan', 'Mona Singh', 'Tsutomu Tatsumi', 'Ayano Shiraishi', 'Akemi Yamaguchi', 'Shelley Duvall', 'Danny Lloyd', 'Peter Lorre', 'Ellen Widmann', 'Inge Landgut', 'Ben Burtt', 'Elissa Knight', 'Jeff Garlin', 'Tyrone Power', 'Marlene Dietrich', 'Charles Laughton', 'Sunil Dutt', 'Sanjay Dutt', 'Arshad Warsi', 'Annette Bening', 'Thora Birch', 'Jürgen Prochnow', 'Herbert Grönemeyer', 'Klaus Wennemann', 'Yôji Matsuda', 'Yuriko Ishida', 'Yûko Tanaka', 'Audrey Tautou', 'Mathieu Kassovitz', 'Rufus', 'Cary Grant', 'Eva Marie Saint', 'James Mason', 'Soha Ali Khan', 'Siddharth', 'Peyman Moaadi', 'Leila Hatami', 'Sareh Bayat', 'Orson Welles', 'Joseph Cotten', 'Dorothy Comingore', 'Michael Biehn', 'Carrie Henn', 'Kim Novak', 'Barbara Bel Geddes', 'Min-sik Choi', 'Ji-tae Yu', 'Hye-jeong Kang', 'James Woods', 'Elizabeth McGovern', 'Fred MacMurray', 'Barbara Stanwyck', 'Edward G. Robinson', 'Tim Allen', 'Joan Cusack', 'Mel Gibson', 'Sophie Marceau', 'Patrick McGoohan', 'Gregory Peck', 'John Megna', 'Frank Overton', 'Ellen Burstyn', 'Jared Leto', 'Jennifer Connelly', \"Peter O'Toole\", 'Alec Guinness', 'Anthony Quinn', 'Malcolm McDowell', 'Patrick Magee', 'Michael Bates', 'Lamberto Maggiorani', 'Enzo Staiola', 'Lianella Carell', 'Edna Purviance', 'Jackie Coogan', 'Shah Rukh Khan', 'Gayatri Joshi', 'Kishori Balal', 'Harvey Keitel', 'Tim Roth', 'Michael Madsen', 'Jim Carrey', 'Kate Winslet', 'Tom Wilkinson', 'Cybill Shepherd', 'Kajol', 'Amrish Puri', 'Gene Kelly', \"Donald O'Connor\", 'Debbie Reynolds', 'Bette Davis', 'Anne Baxter', 'George Sanders', 'Eijirô Tôno', 'Tatsuya Nakadai', 'Paul Newman', 'Robert Redford', 'Robert Shaw', 'Machiko Kyô', 'Masayuki Mori', 'F. Murray Abraham', 'Tom Hulce', 'Elizabeth Berridge', 'Walter Huston', 'Tim Holt', 'Graham Chapman', 'John Cleese', 'Eric Idle', 'Matthew Modine', 'R. Lee Ermey', \"Vincent D'Onofrio\", 'Jack Lemmon', 'Shirley MacLaine', 'Nobuo Kaneko', \"Shin'ichi Himori\", 'Alida Valli', 'Jason Statham', 'Benicio Del Toro', 'Gian Maria Volonté', 'Brigitte Helm', 'Alfred Abel', 'Gustav Fröhlich', 'Saif Ali Khan', 'Akshaye Khanna', 'Keir Dullea', 'Gary Lockwood', 'William Sylvester', 'Marilyn Monroe', 'Tony Curtis', 'Michael Caine', 'Ken Watanabe', 'Diane Kruger', 'Eli Roth', 'Michelle Pfeiffer', 'Steven Bauer', 'Jean Arthur', 'Claude Rains', 'Don Rickles', 'Sean Connery', 'Alison Doody', 'Gene Hackman', 'Steve McQueen', 'James Garner', 'Richard Attenborough', 'Mads Mikkelsen', 'Thomas Bo Larsen', 'Annika Wedderkopp', 'Karl Malden', 'Buster Keaton', 'Marion Mack', 'Glen Cavender', 'Cathy Moriarty', 'Bruno Ganz', 'Alexandra Maria Lara', 'Ulrich Matthes', 'Edward Asner', 'Jordan Nagai', 'John Ratzenberger', 'Victor Sjöström', 'Bibi Andersson', 'Ingrid Thulin', 'Mack Swain', 'Tom Murray', 'Akira Terao', 'Jinpachi Nezu', 'Faye Dunaway', 'John Huston', 'Hitoshi Takagi', 'Noriko Hidaka', 'Chika Sakamoto', 'Spencer Tracy', 'Burt Lancaster', 'Richard Widmark', 'Ranbir Kapoor', 'Priyanka Chopra', 'Ileana', 'Max von Sydow', 'Gunnar Björnstrand', 'Bengt Ekerot', 'Val Kilmer', 'Ivana Baquero', 'Ariadna Gil', 'Sergi López', 'Jack Hawkins', 'Bruce Willis', 'Alan Rickman', 'Bonnie Bedelia', 'Robin Williams', 'Ben Affleck', 'Yves Montand', 'Charles Vanel', 'Peter van Eyck', 'Ricardo Darín', 'Soledad Villamil', 'Pablo Rago', 'Gracy Singh', 'Rachel Shelley', 'Jonah Hill', 'Margot Robbie', 'Clark Gable', 'Claudette Colbert', 'Walter Connolly', 'Rutger Hauer', 'Sean Young', 'Nick Nolte', 'Joel Edgerton', 'Chieko Baishô', 'Takuya Kimura', 'Tatsuya Gashûin', 'Anne Bancroft', 'Laurence Olivier', 'Joan Fontaine', 'Lubna Azabal', 'Mélissa Désormeaux-Poulin', 'Maxim Gaudette', 'Jason Flemyng', 'Dexter Fletcher', 'Nick Moran', 'Hugo Weaving', 'Rupert Graves', 'Jeff Bridges', 'John Goodman', 'Julianne Moore', 'George Kennedy', 'Strother Martin', 'Darío Grandinetti', 'María Marull', 'Mónica Villa', 'Sharon Stone', 'Vivien Leigh', 'Thomas Mitchell', 'Rosamund Pike', 'Neil Patrick Harris', 'Fredric March', 'Dana Andrews', 'Myrna Loy', 'Jay Baruchel', 'Gerard Butler', 'Christopher Mintz-Plasse', 'Simone Signoret', 'Véra Clouzot', 'Paul Meurisse', 'Bee Vang', 'Christopher Carley', 'Daniel Brühl', 'Chris Hemsworth', 'Olivia Wilde', 'Emile Hirsch', 'Vince Vaughn', 'Catherine Keener', 'Tae-hyun Cha', 'Gianna Jun', 'In-mun Kim', 'Christopher Walken', 'John Cazale', 'Toni Collette', 'Philip Seymour Hoffman', 'Eric Bana', 'Richard Gere', 'Joan Allen', 'Cary-Hiroyuki Tagawa', 'Mary Astor', 'Gladys George', 'Ed Harris', 'Ray Milland', 'Robert Cummings', 'Ewan McGregor', 'Ewen Bremner', 'Jonny Lee Miller', 'Dong-gun Jang', 'Bin Won', 'Eun-ju Lee', 'Liv Ullmann', 'Margaretha Krook', 'Charlton Heston', 'William H. Macy', 'Frances McDormand', 'Steve Buscemi', 'Robert Downey Jr.', 'Chris Evans', 'Jean-Pierre Léaud', 'Albert Rémy', 'Claire Maurier', 'Cary Elwes', 'Mandy Patinkin', 'Don Cheadle', 'Sophie Okonedo', 'Alisa Freyndlikh', 'Aleksandr Kaydanovskiy', 'Anatoliy Solonitsyn', 'Brahim Hadjadj', 'Jean Martin', 'Yacef Saadi', 'Predrag Manojlovic', 'Lazar Ristovski', 'Mirjana Jokovic', 'Bertil Guve', 'Pernilla Allwin', 'Kristina Adolphson', 'Peter Finch', 'Kurt Russell', 'Wilford Brimley', 'Keith David', 'Katharine Ross', 'Jane Darwell', 'John Carradine', 'Bajram Severdzan', 'Srdjan Todorovic', 'Branka Katic', 'Michael Palin', 'Haley Joel Osment', 'Albert Brooks', 'Ellen DeGeneres', 'Alexander Gould', 'Sumi Shimamoto', 'Mahito Tsujimura', 'Hisako Kyôda', 'Colin Firth', 'Taron Egerton', 'Charlie Sheen', 'Tom Berenger', 'Willem Dafoe', 'Chris Pratt', 'Vin Diesel', 'Bradley Cooper', 'Daniel Day-Lewis', 'Pete Postlethwaite', 'Alison Crosbie', 'David Carradine', 'Daryl Hannah', 'Tommy Lee Jones', 'Javier Bardem', 'Josh Brolin', 'Alain Delon', 'Nathalie Delon', 'François Périer', 'Chiwetel Ejiofor', 'Michael Kenneth Williams', 'Michael Fassbender', 'Pruitt Taylor Vince', 'Bill Nunn', 'Marcello Mastroianni', 'Anouk Aimée', 'Stephen Boyd', 'Emilio Echevarría', 'Gael García Bernal', 'Goya Toledo', 'Wil Wheaton', 'River Phoenix', 'Corey Feldman', 'Joan Crawford', 'Victor Buono', 'Woody Allen', 'Diane Keaton', 'Tony Roberts', 'Benedict Cumberbatch', 'Keira Knightley', 'Matthew Goode', 'Gene Tierney', 'Clifton Webb', 'Masahiro Motoki', 'Ryôko Hirosue', 'Tsutomu Yamazaki', 'Andy Lau', 'Tony Chiu Wai Leung', 'Anthony Chau-Sang Wong', 'Paul Dano', 'Ciarán Hinds', 'Mathieu Amalric', 'Giulietta Masina', 'Richard Basehart', 'Mickey Rourke', 'Clive Owen', 'Kang-ho Song', 'Sang-kyung Kim', 'Roe-ha Kim', 'Jake Gyllenhaal', 'Jena Malone', 'Mary McDonnell', 'Elizabeth Taylor', 'Richard Burton', 'George Segal', 'John Gielgud', 'Candice Bergen', 'Natalya Bondarchuk', 'Donatas Banionis', 'Jüri Järvet', 'Daniel Radcliffe', 'Emma Watson', 'Rupert Grint', 'Harry Dean Stanton', 'Nastassja Kinski', 'Dean Stockwell', 'Judy Garland', 'Frank Morgan', 'Ray Bolger', 'Seung-yeon Lee', 'Hyun-kyoon Lee', 'Hyuk-ho Kwon', 'Ellar Coltrane', 'Patricia Arquette', 'Ethan Hawke', 'Hilary Swank', 'Timothy Bottoms', 'Farley Granger', 'Robert Walker', 'Ruth Roman', 'Burl Ives', 'Anita Ekberg', 'Brigitte Lin', 'Takeshi Kaneshiro', 'Robert Mitchum', 'Shelley Winters', 'Lillian Gish', 'Vincent Cassel', 'Hubert Koundé', 'Saïd Taghmaoui', 'Donnie Yen', 'Simon Yam', 'Siu-Wong Fan', 'Gary Cooper', 'Julie Delpy', 'Andrea Eckert', 'Wagner Moura', 'Irandhir Santos', 'André Ramiro', 'Édgar Ramírez', 'Anna Paquin', 'James Van Der Beek', 'Cloris Leachman', 'Ulrich Thomsen', 'Henning Moritzen', 'Ki-duk Kim', 'Yeong-su Oh', 'Jong-ho Kim', 'Emily Mortimer', 'Mark Ruffalo', \"Ryan O'Neal\", 'Marisa Berenson', 'Don Taylor', 'Otto Preminger', 'Irène Jacob', 'Jean-Louis Trintignant', 'Frédérique Feder', 'Patrick Stewart', 'Alec Cawthorne', 'Maggie Cheung', 'Ping Lam Siu', 'John Wayne', 'Priscilla Lane', 'Raymond Massey', 'Lauren Bacall', 'John Ridgely', 'Audrey Hepburn', 'Eddie Albert', 'Katharine Hepburn', 'Nozomu Sasaki', 'Mami Koyama', 'Mitsuo Iwata', 'Lee Remick', 'Ben Gazzara', 'Werner Krauss', 'Conrad Veidt', 'Friedrich Feher', 'Emma Stone', 'Viola Davis', 'Octavia Spencer', 'Belén Rueda', 'Lola Dueñas', 'Caio Junqueira', 'Jackie Gleason', 'Piper Laurie', 'Dean Martin', 'Ricky Nelson', 'Madeleine Stowe', 'Josephine Hull', 'Peggy Dow', 'Peter Billingsley', 'Melinda Dillon', 'Darren McGavin', 'Roy Scheider', 'Richard Dreyfuss', 'Iko Uwais', 'Yayan Ruhian', 'Arifin Putra', 'Sylvester Stallone', 'Talia Shire', 'Burt Young', 'Solveig Dommartin', 'Otto Sander', 'Johnny Depp', 'Geoffrey Rush', 'Coleen Gray', 'Vince Edwards', 'Dustin Hoffman', 'Victor Jory', 'Bill Murray', 'Andie MacDowell', 'Chris Elliott', 'Marianne Koch', 'Billy Crystal', 'Mary Gibbs', 'Penelope Allen', 'Logan Lerman', 'Ezra Miller', 'Gene Wilder', 'Madeline Kahn', 'Marty Feldman', 'Ruth Gordon', 'Bud Cort', 'Vivian Pickles', 'Vernon Dobtcheff', 'Kim Hunter', 'Charles Ruggles', 'Emmanuelle Seigner', 'Marie-Josée Croze', 'Rosalind Russell', 'Ralph Bellamy', 'Billy Bob Thornton', 'Dwight Yoakam', 'J.T. Walsh', 'Lew Ayres', 'Louis Wolheim', 'John Wray', 'Vladimir Garin', 'Ivan Dobronravov', 'Konstantin Lavronenko', 'Frank Sinatra', 'Laurence Harvey', 'Groucho Marx', 'Harpo Marx', 'Chico Marx', \"Paige O'Hara\", 'Robby Benson', 'Richard White', 'Laura Linney', 'Ernest Borgnine', 'Robert Ryan', 'John Dall', 'Sam Neill', 'Laura Dern', 'Jeff Goldblum', 'Nicole Kidman', 'Paul Bettany', 'Paul Walker', 'Dwayne Johnson', 'Stephen Young', 'Danny Elfman', 'Chris Sarandon', \"Catherine O'Hara\", 'Melvyn Douglas', 'Chiara Mastroianni', 'Catherine Deneuve', 'Gena Rowlands', 'Rob Reiner', 'Michael McKean', 'Christopher Guest', 'James Dean', 'Julie Harris', 'Bob Geldof', 'Christine Hargreaves', 'James Laurenson', 'Djimon Hounsou', 'Albert Finney', 'Billy Crudup', 'Dev Patel', 'Freida Pinto', 'Saurabh Shukla', 'Chris Pine', 'Zachary Quinto', 'Simon Pegg', 'Richard Farnsworth', 'Sissy Spacek', 'Jane Galloway Heitz', 'Martin Landau', 'Bill Bernstein', 'Walter Matthau', 'Kevin Costner', 'David Emge', 'Ken Foree', 'Scott H. Reiniger', 'Tom Cruise', 'Jason Robards', 'Mariel Hemingway', 'Fernanda Montenegro', 'Vinícius de Oliveira', 'Marília Pêra', 'Jonathan Pryce', 'Kim Greist', 'Linda Blair', 'Amy Adams', 'Björk', 'Valeria Golino', 'Rosario Flores', 'Javier Cámara', 'Errol Flynn', 'Olivia de Havilland', 'Basil Rathbone', 'Klaus Kinski', 'Ruy Guerra', 'Helena Rojo', 'Sidney Poitier', 'Rod Steiger', 'Warren Oates', 'Max Schreck', 'Greta Schröder', 'Ruth Landshoff', 'Mila Kunis', 'Brad Garrett', 'Lou Romano', 'Patton Oswalt', 'Jeffrey Hunter', 'Brie Larson', 'Frantz Turner', 'John Gallagher Jr.', 'Omar Sharif', 'Julie Christie', 'Geraldine Chaplin', 'Suraj Sharma', 'Irrfan Khan', 'Adil Hussain', 'Jack Warden', 'Aleksandr Antonov', 'Vladimir Barsky', 'Grigori Aleksandrov', 'Graham Greene', 'Renée Zellweger', 'Craig Bierko', 'Robert Sean Leonard', 'Atsuko Tanaka', 'Iemasa Kayumi', 'Akio Ôtsuka', 'Birol Ünel', 'Sibel Kekilli', 'Güven Kiraç', 'Branko Djuric', 'Rene Bitorajac', 'Filip Sovagovic', 'Jennifer Garner', 'Brooke Adams', 'Sam Shepard', 'Julie Andrews', 'Christopher Plummer', 'Eleanor Parker', 'Sharlto Copley', 'David James', 'Jason Cope', 'Teresa Wright', 'Macdonald Carey', 'Colin Clive', 'Mae Clarke', 'Boris Karloff', 'Nick Frost', 'Kate Ashfield', 'Duane Jones', \"Judith O'Dea\", 'Karl Hardman', 'Timothy Spall', 'Brenda Blethyn', 'Phyllis Logan', 'Jean Dujardin', 'Bérénice Bejo', 'Scott Weinger', 'Linda Larkin', 'Margaret Lockwood', 'Michael Redgrave', 'Paul Lukas', 'Martin Freeman', 'Richard Armitage', 'Kåre Hedebrant', 'Lina Leandersson', 'Per Ragnar', 'Topol', 'Norma Crane', 'Leonard Frey', 'Juliette Binoche', 'Zbigniew Zamachowski', 'Mia Farrow', 'John Cassavetes', 'Sean Penn', 'Kevin Bacon', 'Nathan Fillion', 'Gina Torres', 'Magali Noël', 'Bruno Zanin', 'Pupella Maggio', 'Roddy McDowall', 'Christian Slater', 'Dennis Hopper', 'Dianne Wiest', 'Sam Rockwell', 'Dominique McElligott', 'Seamus Davey-Fitzpatrick', 'Sheetal Menon', \"Chris O'Donnell\", 'James Rebhorn', 'Naomi Watts', 'Laura Harring', 'Justin Theroux', 'Fay Wray', 'Robert Armstrong', 'Bruce Cabot', 'Shailene Woodley', 'Ansel Elgort', 'Nat Wolff', 'Craig T. Nelson', 'Holly Hunter', 'Winona Ryder', 'Daniel Craig', 'Eva Green', 'Judi Dench', 'Cate Blanchett', 'Colin Farrell', 'Brendan Gleeson', 'Jean-Paul Belmondo', 'Jean Seberg', 'Daniel Boulanger', 'Jean Simmons', 'Eli Marienthal', 'Harry Connick Jr.', 'Jennifer Aniston', 'Jon Voight', 'Sylvia Miles', 'John Belushi', 'Dan Aykroyd', 'Cab Calloway', 'Wallace Ford', 'Leila Hyams', 'Olga Baclanova', 'Kazunari Ninomiya', 'Tsuyoshi Ihara', 'Emily Blunt', 'Bill Paxton', 'Denzel Washington', 'Robert Morley', 'Michael Keaton', 'Zach Galifianakis', 'Ryan Potter', 'Scott Adsit', 'Jamie Chung', 'Patrick Fugit', 'Kate Hudson', 'Rachel McAdams', 'Allen Garfield', 'Emilio Estevez', 'Judd Nelson', 'Molly Ringwald', 'Will Smith', 'Thandie Newton', 'Jaden Smith', 'Yun-Fat Chow', 'Danny Lee', 'Sally Yeh', 'Glen Hansard', 'Markéta Irglová', 'Hugh Walsh', 'Jet Li', 'Emma Thompson', 'John Haycraft', 'Elsa Lanchester', 'Marisa Tomei', 'Evan Rachel Wood', 'Rene Russo', 'Sandra Bullock', 'George Clooney', 'Teresa Mo', 'Warren Beatty', 'Michael J. Pollard', 'Franka Potente', 'Chris Cooper', 'Gastón Pauls', 'Leticia Brédice', 'Sam Waterston', 'Haing S. Ngor', 'John Malkovich', 'Cecilia Roth', 'Marisa Paredes', 'Candela Peña', 'Beau Billingslea', 'Melissa Fahn', 'Nicholas Guest', 'Sarah Jessica Parker', 'Claire Trevor', 'Andy Devine', 'Sondra Locke', 'Chief Dan George', 'Scott Glenn', 'Tahar Rahim', 'Niels Arestrup', 'Adel Bencherif', 'Anamaria Marinca', 'Vlad Ivanov', 'Laura Vasiliu', 'Ali Mosaffa', 'Lee Pace', 'Catinca Untaru', 'Justine Waddell', 'Emily Watson', 'Stellan Skarsgård', 'Katrin Cartlidge', 'Sarah Polley', 'Sam Worthington', 'Zoe Saldana', 'Gwyneth Paltrow', 'Terrence Howard', 'Danny Aiello', 'Ossie Davis', 'Ruby Dee', 'Penelope Ann Miller', 'Michelle Yeoh', 'Ziyi Zhang', 'Oksana Akinshina', 'Artyom Bogucharskiy', 'Pavel Ponomaryov', 'Gérard Jugnot', 'François Berléand', 'Jean-Baptiste Maunier', 'Sean Patrick Flanery', 'Norman Reedus', 'John Turturro', 'Reese Witherspoon', 'Ginnifer Goodwin', 'Mike Myers', 'Eddie Murphy', 'Cameron Diaz', 'Rex Harrison', 'Stanley Holloway', 'Yul Brynner', 'Mark Wahlberg', 'Barkhad Abdi', 'Barkhad Abdirahman', 'Liza Minnelli', 'Michael York', 'Helmut Griem', 'Donald Pleasence', 'Jamie Lee Curtis', 'Tony Moran', 'Brenda Fricker', 'Alison Whelan', 'Edmund Gwenn', \"Maureen O'Hara\", 'John Payne', 'Sae-ron Kim', 'Tae-hoon Kim', 'Riisa Naka', 'Takuya Ishida', 'Mitsutaka Itakura', 'Steve Carell', 'Greg Kinnear', 'Maggie Grace', 'Famke Janssen', 'Léa Seydoux', 'Adèle Exarchopoulos', 'Salim Kechiouche', 'Burt Reynolds', 'Alan Ruck', 'Mia Sara', 'Diane Ladd', 'Iain Rea', 'Kirsten Dunst', 'Minami Takayama', 'Rei Sakuma', 'Tom Waits', 'John Lurie', 'Alec Baldwin', \"Brian O'Halloran\", 'Jeff Anderson', 'Marilyn Ghigliotti', 'Nicolas Bro', 'Rooney Mara', 'Robert Donat', 'Madeleine Carroll', 'Lucie Mannheim', 'Henry Thomas', 'Drew Barrymore', 'Peter Coyote', 'Sam Elliott', 'Carl Weathers', 'Kevin Peter Hall', 'Mandy Moore', 'Zachary Levi', 'Donna Murphy', 'Donald Sutherland', 'Mary Tyler Moore', 'Judd Hirsch', 'Jim Sturgess', 'Sylvia Hoeks', 'Jennifer Lawrence', 'Kenneth Branagh', 'Derek Jacobi', 'Emmanuelle Riva', 'Isabelle Huppert', 'Byung-hun Lee', 'In-seo Kim', 'Rodrigo De la Serna', 'Mía Maestro', 'Ron Livingston', 'David Herman', 'Andreas Wilson', 'Henrik Lundström', 'Gustaf Skarsgård', 'Michael Nyqvist', 'Noomi Rapace', 'Ewa Fröling', 'Richard E. Grant', 'Paul McGann', 'Richard Griffiths', 'Michael Rennie', 'Patricia Neal', 'Hugh Marlowe', 'Carice van Houten', 'Thom Hoffman', 'Bruce Campbell', 'Sarah Berry', 'Dan Hicks', 'Hideaki Anno', 'Hidetoshi Nishijima', 'Miori Takimoto', 'Michèle Caucheteux', 'Jean-Claude Donda', 'Michel Robin', 'Eduardo Noriega', 'Penélope Cruz', 'Chete Lera', 'Ryan Gosling', 'Carey Mulligan', 'Bryan Cranston', 'Will Ferrell', 'Elizabeth Banks', 'Edward Fox', 'Terence Alexander', 'Michel Auclair', 'Kathy Bates', 'Jack Albertson', 'Peter Ostrum', 'Leopold Stokowski', 'Deems Taylor', 'Corey Burton', 'Jude Law', 'Shûichirô Moriyama', 'Tokiko Katô', 'Sanshi Katsura', 'Fernando Rey', 'Asa Butterfield', 'David Thewlis', 'Rupert Friend', 'Miranda Richardson', 'Domhnall Gleeson', 'Bill Nighy', 'Isabella Rossellini', 'Kyle MacLachlan', 'Paddy Considine', 'Samantha Morton', 'Tilda Swinton', 'Russell Means', 'Jared Gilman', 'Kara Hayward', 'Natalie Wood', 'Sal Mineo', 'Meryl Streep', 'Kevin McCarthy', 'Dana Wynter', 'Larry Gates', 'Andrew Robinson', 'Harry Guardino', 'John C. Reilly', 'Jack McBrayer', 'Jane Lynch', 'Justin Bartha', 'Jean Sorel', 'Michel Piccoli', 'Tim Blake Nelson', 'Ian Hendry', 'John Fraser', 'Robert Hays', 'Julie Hagerty', 'Leslie Nielsen', 'Matthew Macfadyen', 'Stanley Baker', 'Ulla Jacobsson', 'Lisanne Falk', 'Montgomery Clift', 'Deborah Kerr', 'Gerardo Taracena', 'Raoul Trujillo', 'Dalia Hernández', 'James McAvoy', 'Lee Marvin', 'Moritz Bleibtreu', 'Herbert Knaup', 'Patrick Horgan', 'John Lone', 'Joan Chen', 'Sean Astin', 'Jeff Cohen', 'Christian Friedel', 'Ernst Jacobi', 'Leonie Benesch', 'Sela Ward', 'Danny Glover', 'Whoopi Goldberg', 'Oprah Winfrey', 'Trey Parker', 'Matt Stone', 'Mary Kay Bergman', 'Zooey Deschanel', 'Geoffrey Arend', 'Giovanni Ribisi', 'Cleavon Little', 'Slim Pickens', 'George Peppard', 'Christian Berkel', 'Oliver Stokowski', 'Josh Hartnett', 'Eddie Redmayne', 'Felicity Jones', 'Tom Prior', 'Stephen Chow', 'Wah Yuen', 'Qiu Yuen', 'John Cusack', 'Jesse Eisenberg', 'Andrew Garfield', 'Justin Timberlake', 'Ben Foster', 'Helmut Qualtinger', 'Dick Van Dyke', 'David Tomlinson', 'Michael Douglas', 'Deborah Kara Unger', 'Angelina Jolie', 'Colm Feore', 'Amy Ryan', 'John Randolph', 'Jack Kehoe', 'Juliette Lewis', 'Gert Fröbe', 'Honor Blackman', 'Bruce Dern', 'Will Forte', 'June Squibb', 'Tom Guiry', 'Mike Vitar', 'Patrick Renna', 'Cuba Gooding Jr.', 'Hudhail Al-Amir', 'Naomie Harris', 'Regina King', 'Kerry Washington', 'Lena Headey', 'David Wenham', 'Lillo Brancato', 'Rod Taylor', 'Tippi Hedren', 'Tatsuya Fujiwara', 'Aki Maeda', 'Tarô Yamamoto', 'Sam Riley', 'Craig Parkinson', 'Jane Alexander', 'Ned Beatty', 'Julia Roberts', 'Helen Hunt', 'Julie Kavner', 'Jerry Lewis', 'Diahnne Abbott', 'Dakota Fanning', 'Rufus Sewell', 'Kiefer Sutherland', 'Katrin Saß', 'Chulpan Khamatova', 'Will Patton', 'Wood Harris', 'William Shatner', 'Leonard Nimoy', 'DeForest Kelley', 'Tyler Hoechlin', 'Rob Maxey', 'Jason Schwartzman', 'Olivia Williams', 'Jennifer Jason Leigh', 'Aitana Sánchez-Gijón', 'Madeline Carroll', 'Callan McAuliffe', 'Rebecca De Mornay', 'Jim Caviezel', 'Richard Harris', 'Christina Hendricks', 'Marcia Gay Harden', 'Guillaume Canet', 'Marion Cotillard', 'Thibault Verhaeghe', 'Gary Farmer', 'Crispin Glover', 'Jeff Daniels', 'Seth Rogen', 'Anna Kendrick', 'Aaron Taylor-Johnson', 'Nicolas Cage', 'Chloë Grace Moretz', 'Marie-Laure Dougnac', 'Dominique Pinon', 'Pascal Benezech', 'Judy Davis', 'Forest Whitaker', 'Gillian Anderson', 'Gaspard Ulliel', 'Brady Corbet', 'Elisabeth Shue', 'Charlie Cox', 'Claire Danes', 'Sienna Miller', 'Megumi Hayashibara', 'Tôru Emori', 'Katsunosuke Hori', 'Tobey Maguire', 'Frank Langella', 'Michael Sheen', 'Bruce Lee', 'John Saxon', 'Jim Kelly', 'John Lennon', 'Paul McCartney', 'George Harrison', 'Billy Connolly', 'Peter Dinklage', 'Patricia Clarkson', 'Bobby Cannavale', 'Woody Harrelson', 'Ha-kyun Shin', 'Doona Bae', 'Jason Segel', 'Russell Brand', 'Alan Ladd', 'Van Heflin', 'Walter Pidgeon', 'Anne Francis', 'Billy Zane', 'Casey Affleck', 'Thierry Lhermitte', 'Jacques Villeret', 'Francis Huster', 'Keri Russell', 'Andy Serkis', 'Barry Pepper', 'Armin Mueller-Stahl', 'Justin Braine', 'Quinton Aaron', 'Tim McGraw', 'Michelle Williams', 'Paul Sanchez', 'Angela Bassett', 'Delroy Lindo', 'Alexandra Dahlström', 'Rebecka Liljeberg', 'Erica Carlson', 'Peter Mullan', 'Shaun Evans', 'Michael Beck', 'James Remar', 'Dorsey Wright', 'François Truffaut', 'Teri Garr', 'Jonathan Rhys Meyers', 'Ashton Kutcher', 'Amy Smart', 'Melora Walters', 'Ron Perlman', 'Daniel Emilfork', 'Judith Vittet', 'Jamie Bell', 'Julie Walters', 'Jean Heywood', 'Hugh Grant', 'Martine McCutcheon', 'Zero Mostel', 'Dick Shawn', 'Richard Jenkins', 'Haaz Sleiman', 'Danai Gurira', 'Roberta Maxwell', 'James Fleet', 'Janusz Gajos', 'Toni Servillo', 'Carlo Verdone', 'Sabrina Ferilli', 'Mary Ure', 'Jason London', 'Wiley Wiggins', 'John Getz', 'Dan Hedaya', 'Thomas Turgoose', 'Stephen Graham', 'Jo Hartley', 'Li Sun', 'Yong Dong', 'Glenn Close', 'Leigh Whannell', 'Adriana Caselotti', 'Harry Stockwell', 'Lucille La Verne', 'Teri Hatcher', 'John Hodgman', 'Josh Hutcherson', 'Liam Hemsworth', 'Kevin Kline', 'Peter MacNicol', 'Sylvie Testud', 'Pascal Greggory', 'Hayden Christensen', 'Hailee Steinfeld', 'Griffin Dunne', 'Rosanna Arquette', 'Verna Bloom', 'Kristen Bell', 'Idina Menzel', 'Jonathan Groff', 'Sue Lyon', 'Owen Wilson', 'Dave Goelz', 'Steve Whitmire', 'Bob Hoskins', 'Joanna Cassidy', 'Yeong-ae Lee', 'Shi-hoo Kim', 'Rose McGowan', 'Danny Trejo', 'Mikael Persbrandt', 'Trine Dyrholm', 'Markus Rygaard', 'David Hemmings', 'Vanessa Redgrave', 'Sarah Miles', 'Bridgit Mendler', 'Amy Poehler', 'Will Arnett', 'Michelle Monaghan', 'Bill Pullman', 'John Roselius', 'John Leguizamo', 'Keisha Castle-Hughes', 'Rawiri Paratene', 'Vicky Haughton', 'Michael Peña', 'Steve Coogan', 'Sophie Kennedy Clark', 'Shia LaBeouf', 'Jean-Marc Barr', 'Brian Dennehy', 'Richard Crenna', 'Michael Chekhov', 'Edward Woodward', 'Christopher Lee', 'Diane Cilento', 'Rosario Dawson', 'Brad Davis', 'Irene Miracle', 'Bo Hopkins', 'Telly Savalas', 'Elliott Gould', 'Greta Scacchi', 'Fred Ward', 'Catherine Zeta-Jones', 'Maribel Verdú', 'Daniel Giménez Cacho', 'James Franco', 'Amber Tamblyn', 'Kate Mara', 'Milla Jovovich', 'David Alan Basche', 'Olivia Thirlby', 'Liza Colón-Zayas', 'Ni Ni', 'Xinyi Zhang', 'Bela Lugosi', 'Helen Chandler', 'David Manners', 'Marianna Hill', 'Jessica Tandy', 'Mary Stuart Masterson', 'Jackie Earle Haley', 'Patrick Wilson', 'Carla Gugino', 'Cillian Murphy', 'Christopher Eccleston', 'Jessica Biel', 'Paul Giamatti', 'Michael Cera', 'Andy Garcia', 'Anjelica Huston', 'Phil Harris', 'Sebastian Cabot', 'Louis Prima', 'Cameron Bright', 'Maria Bello', 'Benoît Poelvoorde', 'Jacqueline Poelvoorde-Pappaert', 'Nelly Pappaert', 'Demi Moore', 'Jackie Chan', 'Ho-Sung Pak', 'Lung Ti', 'Khalid Abdalla', 'Ahmad Khan Mahmoodzada', 'Atossa Leoni', 'Meg Ryan', 'Ron Eldard', 'Gary Busey', 'Antonio Banderas', 'Elena Anaya', 'Jan Cornet', 'Brandon Lee', 'Michael Wincott', 'Rochelle Davis', 'George Chakiris', 'Richard Beymer', 'Josh Lucas', 'Takeshi Kitano', 'Tadanobu Asano', 'Yui Natsukawa', 'Barbara Hershey', 'Priscilla Presley', 'O.J. Simpson', 'Fionnula Flanagan', 'Claudine Longet', 'Natalia Borisova', 'Embeth Davidtz', 'Marcus Gilbert', 'Jeremy Renner', 'Anthony Mackie', 'Brian Geraghty', 'Ananda George', 'Ray Sahetapy', 'Carmen Maura', 'Jeremy Theobald', 'Alex Haw', 'Lucy Russell', 'Jack Black', 'Ian McShane', 'Bruce Spence', 'Michael Preston', 'Kôji Yakusho', 'Takayuki Yamada', 'Yûsuke Iseya', 'Michael Badalucco', 'Karl Markovics', 'August Diehl', 'Devid Striesow', 'Taylor Kitsch', 'Tom Holland', 'Zach Braff', 'Peter Sarsgaard', 'Roberts Blossom', 'Wei Tang', 'David Oyelowo', 'Carmen Ejogo', 'Susanne Lothar', 'Arno Frisch', 'Mary Elizabeth Mastrantonio', 'Brian Bedford', 'Roger Miller', 'Joseph Fiennes', 'Stuart Graham', 'Laine Megaw', 'Brian Milligan', 'Kate Capshaw', 'Jonathan Ke Quan', 'Xiaoming Huang', 'Sammo Kam-Bo Hung', 'Jodi Benson', 'Samuel E. Wright', 'Rene Auberjonois', 'Milton Berle', 'Ethel Merman', 'Harvey Stephens', 'Alicia Vikander', 'Mikkel Boe Følsgaard', 'Timothy Balme', 'Diana Peñalver', 'Elizabeth Moody', 'Jason Bateman', 'Jonah Bobo', 'Haley Ramm', 'Sophie Nélisse', 'Charles Grodin', 'Yaphet Kotto', 'David Naughton', 'Jenny Agutter', 'Joe Belcher', 'Kimberly Elise', 'Tyler Labine', 'Alan Tudyk', 'Katrina Bowden', 'Susan Sarandon', 'Robert Prosky', 'Rebecca Hall', 'Jon Hamm', 'Chloë Sevigny', 'Denis Leary', 'Ray Romano', 'Ray Walston', 'Thomas Haden Church', 'Virginia Madsen', 'Iben Hjejle', 'Todd Louiso', 'Terry Gilliam', 'Julian Sands', 'Ellen Sandweiss', 'Richard DeManincor', 'Jada Pinkett Smith', 'Steve Martin', 'John Candy', 'Laila Robins', 'Aksel Hennie', 'Synnøve Macody Lund', 'Nikolaj Coster-Waldau', 'Kim Basinger', 'André Dussollier', 'Henry Silva', 'John Tormey', 'Paul Rhys', 'Elisabeth Harnois', 'Jesse McCartney', 'Margo Harshman', 'Adam Bryant', 'Colm Meaney', 'Henry Goodman', 'David Roper', 'Jonathan Frakes', 'Brent Spiner', 'Sean Bean', 'Freddie Highmore', 'Annie Rose Buckley', 'Vicellous Reon Shannon', 'Elizabeth Peña', 'Peter Sallis', 'Chevy Chase', 'David Strathairn', 'Susan George', 'Peter Vaughan', 'Chadwick Boseman', 'T.R. Knight', 'Jon Favreau', 'Padraic Delaney', 'Liam Cunningham', 'Charlie Hunnam', 'Claire Forlani', 'Adam Sandler', 'Peter Weller', 'Nancy Allen', \"Dan O'Herlihy\", 'Kristin Scott Thomas', 'Kristen Wiig', 'Benjamin Bratt', 'Pam Grier', 'Robert Forster', 'Tyrin Turner', 'Larenz Tate', 'June Kyoto Lu', 'François Bégaudeau', 'Agame Malembo-Emene', 'Angélica Sancio', 'Jennifer Tilly', 'Shari Springer Berman', 'Harvey Pekar', 'Ben Whishaw', 'Halle Berry', 'Dickie Jones', 'Christian Rub', 'Mel Blanc', 'Liev Schreiber', 'Bridget Fonda', 'Vera Farmiga', 'Doris Day', 'Brenda de Banzie', 'Rob Morrow', 'Ron Howard', 'Paul Le Mat', 'Annie Corley', 'Mark Lee', 'Bill Kerr', 'Eilidh Rankin', 'Duncan MacNeil', 'Nathan West', 'Catalina Sandino Moreno', 'Guilied Lopez', 'Orlando Tobón', 'Mary Elizabeth Winstead', 'Kieran Culkin', 'Jared Harris', 'Geena Davis', 'Fernando Cayo', 'Roger Príncep', 'Monica Bellucci', 'Giuseppe Sulfaro', 'Luciano Federico', 'Cliff Robertson', 'Manuela Velasco', 'Ferran Terraza', 'Jorge-Yamam Serrano', 'Jessie Royce Landis', 'Fred Willard', 'Eugene Levy', 'Eugene Hutz', 'Boris Leskin', 'Heather Langenkamp', 'Robert Englund', 'Stephen Dorff', 'Marisol Nichols', 'Vincent Miller', 'Kristen Stewart', 'Matthias Schoenaerts', 'Armand Verdure', 'Imelda Staunton', 'Patrick Dempsey', 'Aidan Quinn', 'Vincent Gallo', 'Christina Ricci', 'Rachel Weisz', 'Ralph Macchio', 'Marilyn Burns', 'Edwin Neal', 'Allen Danziger', 'Ming-Na Wen', 'BD Wong', 'Diego Luna', 'Michael Ironside', 'Sean Gullette', 'Mark Margolis', 'Ben Shenkman', 'Federico Luppi', 'Kate Beckinsale', 'Charlize Theron', 'Terence Stamp', 'Michael B. Jordan', 'Melonie Diaz', 'Nick Stahl', 'Maricel Álvarez', 'Hanaa Bouchaib', 'Lotte Lenya', \"Chris O'Dowd\", 'Kelly Reilly', 'Ray McAnally', 'Tom Hollander', 'Peter Capaldi', 'James Gandolfini', 'Jon Finch', 'Barry Foster', 'Alec McCowen', 'Melanie Lynskey', 'Sarah Peirse', 'Ray Winstone', 'Jacqueline Bisset', 'Robert Vaughn', 'Faye Wong', 'Felicity Huffman', 'Kevin Zegers', 'William Hurt', 'Giancarlo Esposito', 'Jessica Harper', 'Stefania Casini', 'Flavio Bucci', 'Fele Martínez', 'Adam Levine', 'Kelly McGillis', 'Lukas Haas', 'Tye Sheridan', 'Jacob Lofland', 'Joe Anderson', 'Andrew Simpson', 'Oscar Isaac', 'Emilie de Ravin', 'Ione Skye', 'John Mahoney', 'Danny DeVito', 'Gerry Becker', 'David Proval', 'Nigel Terry', 'Helen Mirren', 'Nicholas Clay', 'Kim Darby', 'Glen Campbell', 'David Bowie', 'Toby Froud', 'Kathryn Beaumont', 'Ed Wynn', 'Richard Haydn', 'Sarah Snook', 'Noah Taylor', 'Trey Wilson', 'Sean Hayes', 'Debra Winger', 'Michael Shannon', 'Shea Whigham', 'Dennis Quaid', 'Dennis Haysbert', 'Jack Nance', 'Charlotte Stewart', 'Allen Joseph', 'Greta Gerwig', 'Mickey Sumner', 'Adam Driver', 'Macaulay Culkin', 'Daniel Stern', 'Gina Gershon', 'Noah Hathaway', 'Barret Oliver', 'Tami Stronach', 'Jerry Adler', 'Imogene Coca', 'Abigail Breslin', 'Julia Louis-Dreyfus', 'Allison Janney', 'Clifton Collins Jr.', 'Anne Parillaud', 'Marc Duret', 'Patrick Fontana', 'Sally Field', 'Anna Friel', 'Abbie Cornish', 'Dan Castellaneta', 'Nancy Cartwright', 'Leslie Bibb', 'John Doman', 'Jessica Lange', 'Mary Steenburgen', 'Billy Boyd', 'JoBeth Williams', \"Heather O'Rourke\", 'Tamara Tunie'])"
      ]
     },
     "execution_count": 11,
     "metadata": {},
     "output_type": "execute_result"
    }
   ],
   "source": []
  },
  {
   "cell_type": "code",
   "execution_count": 12,
   "metadata": {},
   "outputs": [
    {
     "data": {
      "text/plain": [
       "<matplotlib.axes._subplots.AxesSubplot at 0x2ad3993bf48>"
      ]
     },
     "execution_count": 12,
     "metadata": {},
     "output_type": "execute_result"
    },
    {
     "data": {
      "image/png": "[encoded data removed]",
      "text/plain": [
       "<Figure size 432x288 with 1 Axes>"
      ]
     },
     "metadata": {
      "needs_background": "light"
     },
     "output_type": "display_data"
    }
   ],
   "source": [
    "pd.Series(actorcount).nlargest(20).plot.bar()"
   ]
  },
  {
   "cell_type": "code",
   "execution_count": 13,
   "metadata": {},
   "outputs": [],
   "source": [
    "from sklearn.feature_extraction.text import CountVectorizer"
   ]
  },
  {
   "cell_type": "code",
   "execution_count": 14,
   "metadata": {},
   "outputs": [
    {
     "data": {
      "text/html": [
       "<div>\n",
       "<style scoped>\n",
       "    .dataframe tbody tr th:only-of-type {\n",
       "        vertical-align: middle;\n",
       "    }\n",
       "\n",
       "    .dataframe tbody tr th {\n",
       "        vertical-align: top;\n",
       "    }\n",
       "\n",
       "    .dataframe thead th {\n",
       "        text-align: right;\n",
       "    }\n",
       "</style>\n",
       "<table border=\"1\" class=\"dataframe\">\n",
       "  <thead>\n",
       "    <tr style=\"text-align: right;\">\n",
       "      <th></th>\n",
       "      <th>star_rating</th>\n",
       "      <th>title</th>\n",
       "      <th>content_rating</th>\n",
       "      <th>genre</th>\n",
       "      <th>duration</th>\n",
       "      <th>actors_list</th>\n",
       "    </tr>\n",
       "  </thead>\n",
       "  <tbody>\n",
       "    <tr>\n",
       "      <th>0</th>\n",
       "      <td>9.3</td>\n",
       "      <td>The Shawshank Redemption</td>\n",
       "      <td>R</td>\n",
       "      <td>Crime</td>\n",
       "      <td>142</td>\n",
       "      <td>[Tim Robbins, Morgan Freeman, Bob Gunton]</td>\n",
       "    </tr>\n",
       "    <tr>\n",
       "      <th>1</th>\n",
       "      <td>9.2</td>\n",
       "      <td>The Godfather</td>\n",
       "      <td>R</td>\n",
       "      <td>Crime</td>\n",
       "      <td>175</td>\n",
       "      <td>[Marlon Brando, Al Pacino, James Caan]</td>\n",
       "    </tr>\n",
       "    <tr>\n",
       "      <th>2</th>\n",
       "      <td>9.1</td>\n",
       "      <td>The Godfather: Part II</td>\n",
       "      <td>R</td>\n",
       "      <td>Crime</td>\n",
       "      <td>200</td>\n",
       "      <td>[Al Pacino, Robert De Niro, Robert Duvall]</td>\n",
       "    </tr>\n",
       "    <tr>\n",
       "      <th>3</th>\n",
       "      <td>9.0</td>\n",
       "      <td>The Dark Knight</td>\n",
       "      <td>PG-13</td>\n",
       "      <td>Action</td>\n",
       "      <td>152</td>\n",
       "      <td>[Christian Bale, Heath Ledger, Aaron Eckhart]</td>\n",
       "    </tr>\n",
       "    <tr>\n",
       "      <th>4</th>\n",
       "      <td>8.9</td>\n",
       "      <td>Pulp Fiction</td>\n",
       "      <td>R</td>\n",
       "      <td>Crime</td>\n",
       "      <td>154</td>\n",
       "      <td>[John Travolta, Uma Thurman, Samuel L. Jackson]</td>\n",
       "    </tr>\n",
       "  </tbody>\n",
       "</table>\n",
       "</div>"
      ],
      "text/plain": [
       "   star_rating                     title content_rating   genre  duration  \\\n",
       "0          9.3  The Shawshank Redemption              R   Crime       142   \n",
       "1          9.2             The Godfather              R   Crime       175   \n",
       "2          9.1    The Godfather: Part II              R   Crime       200   \n",
       "3          9.0           The Dark Knight          PG-13  Action       152   \n",
       "4          8.9              Pulp Fiction              R   Crime       154   \n",
       "\n",
       "                                       actors_list  \n",
       "0        [Tim Robbins, Morgan Freeman, Bob Gunton]  \n",
       "1           [Marlon Brando, Al Pacino, James Caan]  \n",
       "2       [Al Pacino, Robert De Niro, Robert Duvall]  \n",
       "3    [Christian Bale, Heath Ledger, Aaron Eckhart]  \n",
       "4  [John Travolta, Uma Thurman, Samuel L. Jackson]  "
      ]
     },
     "execution_count": 14,
     "metadata": {},
     "output_type": "execute_result"
    }
   ],
   "source": [
    "data.head()"
   ]
  },
  {
   "cell_type": "code",
   "execution_count": 15,
   "metadata": {},
   "outputs": [
    {
     "data": {
      "text/plain": [
       "['Marlon Brando', 'Al Pacino', 'James Caan']"
      ]
     },
     "execution_count": 15,
     "metadata": {},
     "output_type": "execute_result"
    }
   ],
   "source": [
    "data.actors_list"
   ]
  },
  {
   "cell_type": "code",
   "execution_count": 174,
   "metadata": {},
   "outputs": [
    {
     "name": "stderr",
     "output_type": "stream",
     "text": [
      "C:\\Users\\DELL LATITUDE E7250\\Anaconda 3\\lib\\site-packages\\ipykernel_launcher.py:1: DeprecationWarning: The default dtype for empty Series will be 'object' instead of 'float64' in a future version. Specify a dtype explicitly to silence this warning.\n",
      "  \"\"\"Entry point for launching an IPython kernel.\n"
     ]
    },
    {
     "data": {
      "text/plain": [
       "8.200000000000001"
      ]
     },
     "execution_count": 174,
     "metadata": {},
     "output_type": "execute_result"
    }
   ],
   "source": [
    "leap=pd.Series([])\n",
    "for no,actors in data.actors_list.iteritems():\n",
    "    if 'Ian McKellen' in actors:\n",
    "        leap.loc[no]=1\n",
    "    else:\n",
    "        leap.loc[no]=0\n",
    "(data.star_rating*leap).sum()/leap.sum()"
   ]
  },
  {
   "cell_type": "code",
   "execution_count": 194,
   "metadata": {},
   "outputs": [],
   "source": [
    "def rating(names):\n",
    "    leap=pd.Series([])\n",
    "    actor_rating=dict()\n",
    "    for name in names:\n",
    "        for no,actors in data.actors_list.iteritems():\n",
    "            if name in actors:\n",
    "                leap.loc[no]=1\n",
    "            else:\n",
    "                leap.loc[no]=0\n",
    "        actor_rating[name]=(data.star_rating*leap).sum()/leap.sum()\n",
    "    return actor_rating"
   ]
  },
  {
   "cell_type": "code",
   "execution_count": 196,
   "metadata": {},
   "outputs": [
    {
     "name": "stderr",
     "output_type": "stream",
     "text": [
      "C:\\Users\\DELL LATITUDE E7250\\Anaconda 3\\lib\\site-packages\\ipykernel_launcher.py:2: DeprecationWarning: The default dtype for empty Series will be 'object' instead of 'float64' in a future version. Specify a dtype explicitly to silence this warning.\n",
      "  \n"
     ]
    }
   ],
   "source": [
    "result=rating(list(actorcount.keys()))"
   ]
  },
  {
   "cell_type": "code",
   "execution_count": 204,
   "metadata": {},
   "outputs": [],
   "source": [
    "actorratings=pd.Series(result)"
   ]
  },
  {
   "cell_type": "code",
   "execution_count": 207,
   "metadata": {},
   "outputs": [
    {
     "data": {
      "text/plain": [
       "Tim Robbins         8.060000\n",
       "Morgan Freeman      8.087500\n",
       "Bob Gunton          9.300000\n",
       "Marlon Brando       8.525000\n",
       "Al Pacino           8.107692\n",
       "                      ...   \n",
       "Mary Steenburgen    7.400000\n",
       "Billy Boyd          7.400000\n",
       "JoBeth Williams     7.400000\n",
       "Heather O'Rourke    7.400000\n",
       "Tamara Tunie        7.400000\n",
       "Length: 1777, dtype: float64"
      ]
     },
     "execution_count": 207,
     "metadata": {},
     "output_type": "execute_result"
    }
   ],
   "source": [
    "actorratings"
   ]
  },
  {
   "cell_type": "code",
   "execution_count": 201,
   "metadata": {},
   "outputs": [
    {
     "data": {
      "text/html": [
       "<div>\n",
       "<style scoped>\n",
       "    .dataframe tbody tr th:only-of-type {\n",
       "        vertical-align: middle;\n",
       "    }\n",
       "\n",
       "    .dataframe tbody tr th {\n",
       "        vertical-align: top;\n",
       "    }\n",
       "\n",
       "    .dataframe thead th {\n",
       "        text-align: right;\n",
       "    }\n",
       "</style>\n",
       "<table border=\"1\" class=\"dataframe\">\n",
       "  <thead>\n",
       "    <tr style=\"text-align: right;\">\n",
       "      <th></th>\n",
       "      <th>star_rating</th>\n",
       "      <th>title</th>\n",
       "      <th>content_rating</th>\n",
       "      <th>genre</th>\n",
       "      <th>duration</th>\n",
       "      <th>actors_list</th>\n",
       "    </tr>\n",
       "  </thead>\n",
       "  <tbody>\n",
       "    <tr>\n",
       "      <th>0</th>\n",
       "      <td>9.3</td>\n",
       "      <td>The Shawshank Redemption</td>\n",
       "      <td>R</td>\n",
       "      <td>Crime</td>\n",
       "      <td>142</td>\n",
       "      <td>[Tim Robbins, Morgan Freeman, Bob Gunton]</td>\n",
       "    </tr>\n",
       "    <tr>\n",
       "      <th>1</th>\n",
       "      <td>9.2</td>\n",
       "      <td>The Godfather</td>\n",
       "      <td>R</td>\n",
       "      <td>Crime</td>\n",
       "      <td>175</td>\n",
       "      <td>[Marlon Brando, Al Pacino, James Caan]</td>\n",
       "    </tr>\n",
       "    <tr>\n",
       "      <th>2</th>\n",
       "      <td>9.1</td>\n",
       "      <td>The Godfather: Part II</td>\n",
       "      <td>R</td>\n",
       "      <td>Crime</td>\n",
       "      <td>200</td>\n",
       "      <td>[Al Pacino, Robert De Niro, Robert Duvall]</td>\n",
       "    </tr>\n",
       "    <tr>\n",
       "      <th>3</th>\n",
       "      <td>9.0</td>\n",
       "      <td>The Dark Knight</td>\n",
       "      <td>PG-13</td>\n",
       "      <td>Action</td>\n",
       "      <td>152</td>\n",
       "      <td>[Christian Bale, Heath Ledger, Aaron Eckhart]</td>\n",
       "    </tr>\n",
       "    <tr>\n",
       "      <th>4</th>\n",
       "      <td>8.9</td>\n",
       "      <td>Pulp Fiction</td>\n",
       "      <td>R</td>\n",
       "      <td>Crime</td>\n",
       "      <td>154</td>\n",
       "      <td>[John Travolta, Uma Thurman, Samuel L. Jackson]</td>\n",
       "    </tr>\n",
       "  </tbody>\n",
       "</table>\n",
       "</div>"
      ],
      "text/plain": [
       "   star_rating                     title content_rating   genre  duration  \\\n",
       "0          9.3  The Shawshank Redemption              R   Crime       142   \n",
       "1          9.2             The Godfather              R   Crime       175   \n",
       "2          9.1    The Godfather: Part II              R   Crime       200   \n",
       "3          9.0           The Dark Knight          PG-13  Action       152   \n",
       "4          8.9              Pulp Fiction              R   Crime       154   \n",
       "\n",
       "                                       actors_list  \n",
       "0        [Tim Robbins, Morgan Freeman, Bob Gunton]  \n",
       "1           [Marlon Brando, Al Pacino, James Caan]  \n",
       "2       [Al Pacino, Robert De Niro, Robert Duvall]  \n",
       "3    [Christian Bale, Heath Ledger, Aaron Eckhart]  \n",
       "4  [John Travolta, Uma Thurman, Samuel L. Jackson]  "
      ]
     },
     "execution_count": 201,
     "metadata": {},
     "output_type": "execute_result"
    }
   ],
   "source": [
    "data.head()"
   ]
  },
  {
   "cell_type": "code",
   "execution_count": null,
   "metadata": {},
   "outputs": [],
   "source": []
  },
  {
   "cell_type": "code",
   "execution_count": 221,
   "metadata": {},
   "outputs": [
    {
     "name": "stdout",
     "output_type": "stream",
     "text": [
      "Christian Bale\n",
      "Heath Ledger\n",
      "Aaron Eckhart\n",
      "24.677272727272726\n"
     ]
    }
   ],
   "source": [
    "sum=0\n",
    "for i in data.actors_list[3]:\n",
    "    try:\n",
    "        sum+=actorratings[i]\n",
    "    except KeyError:\n",
    "        pass\n",
    "print(sum)"
   ]
  },
  {
   "cell_type": "code",
   "execution_count": 235,
   "metadata": {},
   "outputs": [],
   "source": [
    "def actorbase(data):\n",
    "    rate=pd.Series([])\n",
    "    for no,dat in data.actors_list.iteritems():\n",
    "        Sum=0\n",
    "        for i in dat:\n",
    "            try:\n",
    "                Sum+=actorratings[i]\n",
    "            except KeyError:\n",
    "                pass\n",
    "        rate[no]=Sum\n",
    "    return rate"
   ]
  },
  {
   "cell_type": "code",
   "execution_count": 237,
   "metadata": {},
   "outputs": [
    {
     "name": "stderr",
     "output_type": "stream",
     "text": [
      "C:\\Users\\DELL LATITUDE E7250\\Anaconda 3\\lib\\site-packages\\ipykernel_launcher.py:2: DeprecationWarning: The default dtype for empty Series will be 'object' instead of 'float64' in a future version. Specify a dtype explicitly to silence this warning.\n",
      "  \n"
     ]
    }
   ],
   "source": [
    "rate=actorbase(data)"
   ]
  },
  {
   "cell_type": "code",
   "execution_count": 241,
   "metadata": {},
   "outputs": [],
   "source": [
    "rate.name='rate'"
   ]
  },
  {
   "cell_type": "code",
   "execution_count": 243,
   "metadata": {},
   "outputs": [],
   "source": [
    "data2=pd.concat([data,rate],axis=1)"
   ]
  },
  {
   "cell_type": "code",
   "execution_count": 244,
   "metadata": {},
   "outputs": [],
   "source": [
    "import seaborn as sns"
   ]
  },
  {
   "cell_type": "code",
   "execution_count": 247,
   "metadata": {},
   "outputs": [
    {
     "name": "stderr",
     "output_type": "stream",
     "text": [
      "C:\\Users\\DELL LATITUDE E7250\\Anaconda 3\\lib\\site-packages\\seaborn\\_decorators.py:43: FutureWarning: Pass the following variables as keyword args: x, y. From version 0.12, the only valid positional argument will be `data`, and passing other arguments without an explicit keyword will result in an error or misinterpretation.\n",
      "  FutureWarning\n"
     ]
    },
    {
     "data": {
      "text/plain": [
       "<matplotlib.axes._subplots.AxesSubplot at 0x22f2261f3c8>"
      ]
     },
     "execution_count": 247,
     "metadata": {},
     "output_type": "execute_result"
    },
    {
     "data": {
      "image/png": "[encoded data removed]",
      "text/plain": [
       "<Figure size 720x504 with 1 Axes>"
      ]
     },
     "metadata": {
      "needs_background": "light"
     },
     "output_type": "display_data"
    }
   ],
   "source": [
    "sns.regplot(data2.rate/3,data2.star_rating)"
   ]
  },
  {
   "cell_type": "code",
   "execution_count": 248,
   "metadata": {},
   "outputs": [
    {
     "data": {
      "text/plain": [
       "<matplotlib.axes._subplots.AxesSubplot at 0x22f22660488>"
      ]
     },
     "execution_count": 248,
     "metadata": {},
     "output_type": "execute_result"
    },
    {
     "data": {
      "image/png": "[encoded data removed]",
      "text/plain": [
       "<Figure size 720x504 with 2 Axes>"
      ]
     },
     "metadata": {
      "needs_background": "light"
     },
     "output_type": "display_data"
    }
   ],
   "source": [
    "sns.heatmap(data2.corr())"
   ]
  },
  {
   "cell_type": "code",
   "execution_count": 250,
   "metadata": {},
   "outputs": [],
   "source": [
    "data3=data2.drop('title',axis=1)"
   ]
  },
  {
   "cell_type": "code",
   "execution_count": 251,
   "metadata": {},
   "outputs": [
    {
     "data": {
      "text/html": [
       "<div>\n",
       "<style scoped>\n",
       "    .dataframe tbody tr th:only-of-type {\n",
       "        vertical-align: middle;\n",
       "    }\n",
       "\n",
       "    .dataframe tbody tr th {\n",
       "        vertical-align: top;\n",
       "    }\n",
       "\n",
       "    .dataframe thead th {\n",
       "        text-align: right;\n",
       "    }\n",
       "</style>\n",
       "<table border=\"1\" class=\"dataframe\">\n",
       "  <thead>\n",
       "    <tr style=\"text-align: right;\">\n",
       "      <th></th>\n",
       "      <th>star_rating</th>\n",
       "      <th>content_rating</th>\n",
       "      <th>genre</th>\n",
       "      <th>duration</th>\n",
       "      <th>actors_list</th>\n",
       "      <th>rate</th>\n",
       "    </tr>\n",
       "  </thead>\n",
       "  <tbody>\n",
       "    <tr>\n",
       "      <th>0</th>\n",
       "      <td>9.3</td>\n",
       "      <td>R</td>\n",
       "      <td>Crime</td>\n",
       "      <td>142</td>\n",
       "      <td>[Tim Robbins, Morgan Freeman, Bob Gunton]</td>\n",
       "      <td>25.447500</td>\n",
       "    </tr>\n",
       "    <tr>\n",
       "      <th>1</th>\n",
       "      <td>9.2</td>\n",
       "      <td>R</td>\n",
       "      <td>Crime</td>\n",
       "      <td>175</td>\n",
       "      <td>[Marlon Brando, Al Pacino, James Caan]</td>\n",
       "      <td>25.132692</td>\n",
       "    </tr>\n",
       "    <tr>\n",
       "      <th>2</th>\n",
       "      <td>9.1</td>\n",
       "      <td>R</td>\n",
       "      <td>Crime</td>\n",
       "      <td>200</td>\n",
       "      <td>[Al Pacino, Robert De Niro, Robert Duvall]</td>\n",
       "      <td>24.066422</td>\n",
       "    </tr>\n",
       "    <tr>\n",
       "      <th>3</th>\n",
       "      <td>9.0</td>\n",
       "      <td>PG-13</td>\n",
       "      <td>Action</td>\n",
       "      <td>152</td>\n",
       "      <td>[Christian Bale, Heath Ledger, Aaron Eckhart]</td>\n",
       "      <td>24.677273</td>\n",
       "    </tr>\n",
       "    <tr>\n",
       "      <th>4</th>\n",
       "      <td>8.9</td>\n",
       "      <td>R</td>\n",
       "      <td>Crime</td>\n",
       "      <td>154</td>\n",
       "      <td>[John Travolta, Uma Thurman, Samuel L. Jackson]</td>\n",
       "      <td>24.943333</td>\n",
       "    </tr>\n",
       "  </tbody>\n",
       "</table>\n",
       "</div>"
      ],
      "text/plain": [
       "   star_rating content_rating   genre  duration  \\\n",
       "0          9.3              R   Crime       142   \n",
       "1          9.2              R   Crime       175   \n",
       "2          9.1              R   Crime       200   \n",
       "3          9.0          PG-13  Action       152   \n",
       "4          8.9              R   Crime       154   \n",
       "\n",
       "                                       actors_list       rate  \n",
       "0        [Tim Robbins, Morgan Freeman, Bob Gunton]  25.447500  \n",
       "1           [Marlon Brando, Al Pacino, James Caan]  25.132692  \n",
       "2       [Al Pacino, Robert De Niro, Robert Duvall]  24.066422  \n",
       "3    [Christian Bale, Heath Ledger, Aaron Eckhart]  24.677273  \n",
       "4  [John Travolta, Uma Thurman, Samuel L. Jackson]  24.943333  "
      ]
     },
     "execution_count": 251,
     "metadata": {},
     "output_type": "execute_result"
    }
   ],
   "source": [
    "data3.head()"
   ]
  },
  {
   "cell_type": "code",
   "execution_count": 258,
   "metadata": {},
   "outputs": [
    {
     "data": {
      "text/plain": [
       "<matplotlib.lines.Line2D at 0x22f246ac8c8>"
      ]
     },
     "execution_count": 258,
     "metadata": {},
     "output_type": "execute_result"
    },
    {
     "data": {
      "image/png": "[encoded data removed]",
      "text/plain": [
       "<Figure size 720x504 with 1 Axes>"
      ]
     },
     "metadata": {
      "needs_background": "light"
     },
     "output_type": "display_data"
    }
   ],
   "source": [
    "data3.genre.value_counts().plot.bar()\n",
    "plt.axhline(20)"
   ]
  },
  {
   "cell_type": "code",
   "execution_count": 280,
   "metadata": {},
   "outputs": [
    {
     "name": "stderr",
     "output_type": "stream",
     "text": [
      "C:\\Users\\DELL LATITUDE E7250\\Anaconda 3\\lib\\site-packages\\pandas\\core\\indexing.py:670: SettingWithCopyWarning: \n",
      "A value is trying to be set on a copy of a slice from a DataFrame\n",
      "\n",
      "See the caveats in the documentation: https://pandas.pydata.org/pandas-docs/stable/user_guide/indexing.html#returning-a-view-versus-a-copy\n",
      "  iloc._setitem_with_indexer(indexer, value)\n"
     ]
    }
   ],
   "source": [
    "data3.genre.loc[data.genre.isin(['Mystery','Western','Sci-Fi','Thriller','Film-Noir','Family','Fantasy','History'])]='others'"
   ]
  },
  {
   "cell_type": "code",
   "execution_count": 281,
   "metadata": {},
   "outputs": [
    {
     "data": {
      "text/plain": [
       "array(['Crime', 'Action', 'Drama', 'others', 'Adventure', 'Biography',\n",
       "       'Comedy', 'Animation', 'Horror'], dtype=object)"
      ]
     },
     "execution_count": 281,
     "metadata": {},
     "output_type": "execute_result"
    }
   ],
   "source": [
    "data3.genre.unique()"
   ]
  },
  {
   "cell_type": "code",
   "execution_count": 282,
   "metadata": {},
   "outputs": [
    {
     "data": {
      "text/plain": [
       "<matplotlib.lines.Line2D at 0x22f24980948>"
      ]
     },
     "execution_count": 282,
     "metadata": {},
     "output_type": "execute_result"
    },
    {
     "data": {
      "image/png": "[encoded data removed]",
      "text/plain": [
       "<Figure size 720x504 with 1 Axes>"
      ]
     },
     "metadata": {
      "needs_background": "light"
     },
     "output_type": "display_data"
    }
   ],
   "source": [
    "data3.genre.value_counts().plot.bar()\n",
    "plt.axhline(20)"
   ]
  },
  {
   "cell_type": "code",
   "execution_count": 283,
   "metadata": {},
   "outputs": [
    {
     "data": {
      "text/html": [
       "<div>\n",
       "<style scoped>\n",
       "    .dataframe tbody tr th:only-of-type {\n",
       "        vertical-align: middle;\n",
       "    }\n",
       "\n",
       "    .dataframe tbody tr th {\n",
       "        vertical-align: top;\n",
       "    }\n",
       "\n",
       "    .dataframe thead th {\n",
       "        text-align: right;\n",
       "    }\n",
       "</style>\n",
       "<table border=\"1\" class=\"dataframe\">\n",
       "  <thead>\n",
       "    <tr style=\"text-align: right;\">\n",
       "      <th></th>\n",
       "      <th>star_rating</th>\n",
       "      <th>content_rating</th>\n",
       "      <th>genre</th>\n",
       "      <th>duration</th>\n",
       "      <th>actors_list</th>\n",
       "      <th>rate</th>\n",
       "    </tr>\n",
       "  </thead>\n",
       "  <tbody>\n",
       "    <tr>\n",
       "      <th>0</th>\n",
       "      <td>9.3</td>\n",
       "      <td>R</td>\n",
       "      <td>Crime</td>\n",
       "      <td>142</td>\n",
       "      <td>[Tim Robbins, Morgan Freeman, Bob Gunton]</td>\n",
       "      <td>25.447500</td>\n",
       "    </tr>\n",
       "    <tr>\n",
       "      <th>1</th>\n",
       "      <td>9.2</td>\n",
       "      <td>R</td>\n",
       "      <td>Crime</td>\n",
       "      <td>175</td>\n",
       "      <td>[Marlon Brando, Al Pacino, James Caan]</td>\n",
       "      <td>25.132692</td>\n",
       "    </tr>\n",
       "    <tr>\n",
       "      <th>2</th>\n",
       "      <td>9.1</td>\n",
       "      <td>R</td>\n",
       "      <td>Crime</td>\n",
       "      <td>200</td>\n",
       "      <td>[Al Pacino, Robert De Niro, Robert Duvall]</td>\n",
       "      <td>24.066422</td>\n",
       "    </tr>\n",
       "    <tr>\n",
       "      <th>3</th>\n",
       "      <td>9.0</td>\n",
       "      <td>PG-13</td>\n",
       "      <td>Action</td>\n",
       "      <td>152</td>\n",
       "      <td>[Christian Bale, Heath Ledger, Aaron Eckhart]</td>\n",
       "      <td>24.677273</td>\n",
       "    </tr>\n",
       "    <tr>\n",
       "      <th>4</th>\n",
       "      <td>8.9</td>\n",
       "      <td>R</td>\n",
       "      <td>Crime</td>\n",
       "      <td>154</td>\n",
       "      <td>[John Travolta, Uma Thurman, Samuel L. Jackson]</td>\n",
       "      <td>24.943333</td>\n",
       "    </tr>\n",
       "  </tbody>\n",
       "</table>\n",
       "</div>"
      ],
      "text/plain": [
       "   star_rating content_rating   genre  duration  \\\n",
       "0          9.3              R   Crime       142   \n",
       "1          9.2              R   Crime       175   \n",
       "2          9.1              R   Crime       200   \n",
       "3          9.0          PG-13  Action       152   \n",
       "4          8.9              R   Crime       154   \n",
       "\n",
       "                                       actors_list       rate  \n",
       "0        [Tim Robbins, Morgan Freeman, Bob Gunton]  25.447500  \n",
       "1           [Marlon Brando, Al Pacino, James Caan]  25.132692  \n",
       "2       [Al Pacino, Robert De Niro, Robert Duvall]  24.066422  \n",
       "3    [Christian Bale, Heath Ledger, Aaron Eckhart]  24.677273  \n",
       "4  [John Travolta, Uma Thurman, Samuel L. Jackson]  24.943333  "
      ]
     },
     "execution_count": 283,
     "metadata": {},
     "output_type": "execute_result"
    }
   ],
   "source": [
    "data3.head()"
   ]
  },
  {
   "cell_type": "code",
   "execution_count": 284,
   "metadata": {},
   "outputs": [
    {
     "data": {
      "text/plain": [
       "<matplotlib.axes._subplots.AxesSubplot at 0x22f24a13888>"
      ]
     },
     "execution_count": 284,
     "metadata": {},
     "output_type": "execute_result"
    },
    {
     "data": {
      "image/png": "[encoded data removed]",
      "text/plain": [
       "<Figure size 720x504 with 1 Axes>"
      ]
     },
     "metadata": {
      "needs_background": "light"
     },
     "output_type": "display_data"
    }
   ],
   "source": [
    "data3.content_rating.value_counts().plot.bar()"
   ]
  },
  {
   "cell_type": "code",
   "execution_count": 287,
   "metadata": {},
   "outputs": [],
   "source": [
    "data3.content_rating.fillna(method='ffill',inplace=True)"
   ]
  },
  {
   "cell_type": "code",
   "execution_count": 288,
   "metadata": {},
   "outputs": [
    {
     "data": {
      "text/plain": [
       "star_rating       0\n",
       "content_rating    0\n",
       "genre             0\n",
       "duration          0\n",
       "actors_list       0\n",
       "rate              0\n",
       "dtype: int64"
      ]
     },
     "execution_count": 288,
     "metadata": {},
     "output_type": "execute_result"
    }
   ],
   "source": [
    "data3.isna().sum()"
   ]
  },
  {
   "cell_type": "code",
   "execution_count": 291,
   "metadata": {},
   "outputs": [],
   "source": [
    "learn=pd.get_dummies(data3.drop(['actors_list'],axis=1),drop_first=True)"
   ]
  },
  {
   "cell_type": "code",
   "execution_count": 292,
   "metadata": {},
   "outputs": [],
   "source": [
    "from sklearn.model_selection import train_test_split\n",
    "from sklearn.ensemble import RandomForestRegressor\n",
    "from sklearn.linear_model import LinearRegression\n",
    "from sklearn.preprocessing import StandardScaler"
   ]
  },
  {
   "cell_type": "code",
   "execution_count": 300,
   "metadata": {},
   "outputs": [],
   "source": [
    "X=learn.drop('star_rating',axis=1)\n",
    "y=learn.star_rating\n",
    "X_train, X_test, y_train, y_test=train_test_split(X,y,random_state=48)"
   ]
  },
  {
   "cell_type": "code",
   "execution_count": 308,
   "metadata": {},
   "outputs": [
    {
     "data": {
      "text/plain": [
       "RandomForestRegressor(bootstrap=True, criterion='mse', max_depth=5,\n",
       "                      max_features='auto', max_leaf_nodes=None,\n",
       "                      min_impurity_decrease=0.0, min_impurity_split=None,\n",
       "                      min_samples_leaf=1, min_samples_split=2,\n",
       "                      min_weight_fraction_leaf=0.0, n_estimators=100,\n",
       "                      n_jobs=None, oob_score=False, random_state=None,\n",
       "                      verbose=0, warm_start=False)"
      ]
     },
     "execution_count": 308,
     "metadata": {},
     "output_type": "execute_result"
    }
   ],
   "source": [
    "rand=RandomForestRegressor(n_estimators=100,max_depth=5)\n",
    "rand.fit(X_train,y_train)"
   ]
  },
  {
   "cell_type": "code",
   "execution_count": 309,
   "metadata": {},
   "outputs": [
    {
     "data": {
      "text/plain": [
       "0.7476620841001848"
      ]
     },
     "execution_count": 309,
     "metadata": {},
     "output_type": "execute_result"
    }
   ],
   "source": [
    "rand.score(X_test,y_test)"
   ]
  },
  {
   "cell_type": "code",
   "execution_count": 304,
   "metadata": {},
   "outputs": [
    {
     "data": {
      "text/plain": [
       "LinearRegression(copy_X=True, fit_intercept=True, n_jobs=None, normalize=False)"
      ]
     },
     "execution_count": 304,
     "metadata": {},
     "output_type": "execute_result"
    }
   ],
   "source": [
    "linalg=LinearRegression()\n",
    "linalg.fit(X_train,y_train)"
   ]
  },
  {
   "cell_type": "code",
   "execution_count": 305,
   "metadata": {},
   "outputs": [
    {
     "data": {
      "text/plain": [
       "0.723070789228752"
      ]
     },
     "execution_count": 305,
     "metadata": {},
     "output_type": "execute_result"
    }
   ],
   "source": [
    "linalg.score(X_test,y_test)"
   ]
  },
  {
   "cell_type": "code",
   "execution_count": null,
   "metadata": {},
   "outputs": [],
   "source": []
  }
 ],
 "metadata": {
  "kernelspec": {
   "display_name": "Python 3",
   "language": "python",
   "name": "python3"
  },
  "language_info": {
   "codemirror_mode": {
    "name": "ipython",
    "version": 3
   },
   "file_extension": ".py",
   "mimetype": "text/x-python",
   "name": "python",
   "nbconvert_exporter": "python",
   "pygments_lexer": "ipython3",
   "version": "3.7.4"
  }
 },
 "nbformat": 4,
 "nbformat_minor": 4
}